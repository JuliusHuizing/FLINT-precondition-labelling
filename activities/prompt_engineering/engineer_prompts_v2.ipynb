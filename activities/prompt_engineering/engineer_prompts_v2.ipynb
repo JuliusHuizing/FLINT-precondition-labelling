{
 "cells": [
  {
   "cell_type": "code",
   "execution_count": 1,
   "metadata": {},
   "outputs": [],
   "source": [
    "import openai\n",
    "from openai import OpenAI\n",
    "import os\n",
    "from dotenv import load_dotenv, find_dotenv\n",
    "import pandas as pd\n",
    "import ast\n",
    "from models.ActFrameConstructor import *\n",
    "\n",
    "# TODO: there must be some cleaner way use local packages with poetry, but lets use this quick hack for now...\n",
    "import sys\n",
    "sys.path.append('../../')  # Adjust the path as needed\n",
    "from utils.spacy_visualizer import SpacyLabelVisualizer\n"
   ]
  },
  {
   "cell_type": "code",
   "execution_count": 2,
   "metadata": {},
   "outputs": [],
   "source": [
    "load_dotenv(find_dotenv())\n",
    "OPENAI_SECRET_KEY = os.getenv('OPENAI_SECRET_KEY')\n",
    "os.environ[\"OPENAI_API_KEY\"] = OPENAI_SECRET_KEY"
   ]
  },
  {
   "cell_type": "code",
   "execution_count": null,
   "metadata": {},
   "outputs": [],
   "source": []
  },
  {
   "cell_type": "markdown",
   "metadata": {},
   "source": [
    "# Configuration"
   ]
  },
  {
   "cell_type": "code",
   "execution_count": 3,
   "metadata": {},
   "outputs": [],
   "source": [
    "prompt_file_name = 'prompt_3.txt'\n",
    "gpt_model = Model.gpt35turbo\n",
    "article_name = \"GDPR_6\" #TODO: make enum class for articles"
   ]
  },
  {
   "cell_type": "code",
   "execution_count": 4,
   "metadata": {},
   "outputs": [],
   "source": [
    "prompt1 = open(f'system_prompts/{prompt_file_name}', 'r').read()"
   ]
  },
  {
   "cell_type": "code",
   "execution_count": 5,
   "metadata": {},
   "outputs": [],
   "source": [
    "predictor = ActFrameConstructor(prompt=prompt1, model=gpt_model, prompt_id=prompt_file_name)"
   ]
  },
  {
   "cell_type": "code",
   "execution_count": 6,
   "metadata": {},
   "outputs": [],
   "source": [
    "article = open(f'data/{article_name}.txt', 'r').read()"
   ]
  },
  {
   "cell_type": "code",
   "execution_count": 7,
   "metadata": {},
   "outputs": [],
   "source": [
    "answer = predictor.request_full_response(article)"
   ]
  },
  {
   "cell_type": "code",
   "execution_count": 8,
   "metadata": {},
   "outputs": [],
   "source": [
    "# save answer in a file\n",
    "answer_id  = predictor.id() + f\":article:{article_name}\" + f\":date:{pd.Timestamp.now()}\"\n",
    "with open(f'answers/{answer_id}.md', 'w') as f: # write as markdown; as the reponse will contain a json block this will allow for an easier read.\n",
    "    f.write(answer)"
   ]
  },
  {
   "cell_type": "code",
   "execution_count": 9,
   "metadata": {},
   "outputs": [],
   "source": [
    "# TODO: use another pormpt with json mode and extract answer\n",
    "# TODO: give room to think (COT); given the answers right now, it seems to jump straight to the answer instead."
   ]
  },
  {
   "cell_type": "code",
   "execution_count": null,
   "metadata": {},
   "outputs": [],
   "source": []
  },
  {
   "cell_type": "code",
   "execution_count": null,
   "metadata": {},
   "outputs": [],
   "source": []
  },
  {
   "cell_type": "code",
   "execution_count": null,
   "metadata": {},
   "outputs": [],
   "source": []
  },
  {
   "cell_type": "code",
   "execution_count": null,
   "metadata": {},
   "outputs": [],
   "source": []
  },
  {
   "cell_type": "code",
   "execution_count": null,
   "metadata": {},
   "outputs": [],
   "source": []
  }
 ],
 "metadata": {
  "kernelspec": {
   "display_name": ".venv",
   "language": "python",
   "name": "python3"
  },
  "language_info": {
   "codemirror_mode": {
    "name": "ipython",
    "version": 3
   },
   "file_extension": ".py",
   "mimetype": "text/x-python",
   "name": "python",
   "nbconvert_exporter": "python",
   "pygments_lexer": "ipython3",
   "version": "3.9.18"
  }
 },
 "nbformat": 4,
 "nbformat_minor": 2
}
