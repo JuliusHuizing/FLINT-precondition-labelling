{
 "cells": [
  {
   "cell_type": "code",
   "execution_count": 1,
   "metadata": {},
   "outputs": [],
   "source": [
    "import openai\n",
    "from openai import OpenAI\n",
    "import os\n",
    "from dotenv import load_dotenv, find_dotenv\n",
    "import pandas as pd\n",
    "import ast\n",
    "\n",
    "# TODO: there must be some cleaner way use local packages with poetry, but lets use this quick hack for now...\n",
    "import sys\n",
    "sys.path.append('../../')  # Adjust the path as needed\n",
    "from utils.spacy_visualizer import SpacyLabelVisualizer\n"
   ]
  },
  {
   "cell_type": "code",
   "execution_count": 2,
   "metadata": {},
   "outputs": [],
   "source": [
    "load_dotenv(find_dotenv())\n",
    "OPENAI_SECRET_KEY = os.getenv('OPENAI_SECRET_KEY')\n",
    "os.environ[\"OPENAI_API_KEY\"] = OPENAI_SECRET_KEY"
   ]
  },
  {
   "cell_type": "code",
   "execution_count": 3,
   "metadata": {},
   "outputs": [],
   "source": [
    "prompt1 = open('system_prompts/prompt_2.txt', 'r').read()"
   ]
  },
  {
   "cell_type": "code",
   "execution_count": 4,
   "metadata": {},
   "outputs": [],
   "source": [
    "class ActFrameConstructor:\n",
    "  def __init__(self, prompt: str, prompt_id: str):\n",
    "    self._seed = 42 # ensure reproducable results\n",
    "    self._temperature = 0.0 # ensure deterministic results\n",
    "    self._client = OpenAI() \n",
    "    self._model = \"gpt-3.5-turbo-1106\" \n",
    "    self._prompt_id = prompt_id\n",
    "    # self._model=\"gpt-4-1106-preview\", # this is expensive\n",
    "    self.system_prompt = prompt   \n",
    "\n",
    "    \n",
    "  def id(self):\n",
    "    return f\"model:{self._model}:seed:{self._seed}:temperature:{self._temperature}:prompt:{self._prompt_id}\"\n",
    "    \n",
    "  def request_full_response(self, input: str) -> str:\n",
    "    response = self._computeReponse(input)\n",
    "    message = self._extract_message_from_response(response)\n",
    "    return message\n",
    "        \n",
    "        \n",
    "  # MARK: - Private Methods\n",
    "  def _computeReponse(self, sentence):\n",
    "     response = self._client.chat.completions.create(\n",
    "      seed=self._seed, \n",
    "      temperature=self._temperature, \n",
    "      model=self._model,\n",
    "      # response_format={ \"type\": \"json_object\" },\n",
    "      messages=[\n",
    "        {\"role\": \"system\", \"content\": self.system_prompt},\n",
    "        {\"role\": \"user\", \"content\": sentence},\n",
    "      ],\n",
    "      # stream=True,\n",
    "    )\n",
    "     return response\n",
    "  \n",
    "     \n",
    "  def _extract_message_from_response(self, response) -> str:\n",
    "    return response.choices[0].message.content\n",
    "  \n",
    "  def _extract_final_line(self, message: str) -> str:\n",
    "    message.split(\"```\\n\")[-1]\n",
    "    # remove trailing \\n```\n",
    "    message = message.split(\"```\\n\")[-1].replace(\"\\n```\", \"\")\n",
    "    return message\n",
    "    \n",
    "    \n",
    "\n"
   ]
  },
  {
   "cell_type": "code",
   "execution_count": 5,
   "metadata": {},
   "outputs": [],
   "source": [
    "predictor = ActFrameConstructor(prompt=prompt1, prompt_id=\"prompt_v1\")"
   ]
  },
  {
   "cell_type": "code",
   "execution_count": 6,
   "metadata": {},
   "outputs": [],
   "source": [
    "# predictor.request_full_response(\"I want to go to the movies\")"
   ]
  },
  {
   "cell_type": "code",
   "execution_count": 7,
   "metadata": {},
   "outputs": [],
   "source": [
    "article_name = \"GDPR_art6\"\n",
    "article = open(f'data/{article_name}.txt', 'r').read()"
   ]
  },
  {
   "cell_type": "code",
   "execution_count": 8,
   "metadata": {},
   "outputs": [],
   "source": [
    "answer = predictor.request_full_response(article)"
   ]
  },
  {
   "cell_type": "code",
   "execution_count": 10,
   "metadata": {},
   "outputs": [],
   "source": [
    "# save answer in a file\n",
    "answer_id  = predictor.id() + f\":article:{article_name}\" + f\":date:{pd.Timestamp.now()}\"\n",
    "with open(f'answers/{answer_id}.md', 'w') as f: # write as markdown; as the reponse will contain a json block this will allow for an easier read.\n",
    "    f.write(answer)"
   ]
  },
  {
   "cell_type": "code",
   "execution_count": null,
   "metadata": {},
   "outputs": [],
   "source": [
    "# TODO: use another pormpt with json mode and extract answer\n",
    "# TODO: give room to think (COT); given the answers right now, it seems to jump straight to the answer instead."
   ]
  },
  {
   "cell_type": "code",
   "execution_count": null,
   "metadata": {},
   "outputs": [],
   "source": []
  }
 ],
 "metadata": {
  "kernelspec": {
   "display_name": ".venv",
   "language": "python",
   "name": "python3"
  },
  "language_info": {
   "codemirror_mode": {
    "name": "ipython",
    "version": 3
   },
   "file_extension": ".py",
   "mimetype": "text/x-python",
   "name": "python",
   "nbconvert_exporter": "python",
   "pygments_lexer": "ipython3",
   "version": "3.9.18"
  }
 },
 "nbformat": 4,
 "nbformat_minor": 2
}
