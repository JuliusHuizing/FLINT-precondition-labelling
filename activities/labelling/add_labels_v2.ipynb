{
 "cells": [
  {
   "cell_type": "code",
   "execution_count": 15,
   "metadata": {
    "id": "wZxC0WH--sSd"
   },
   "outputs": [],
   "source": [
    "import pandas as pd\n",
    "import ast"
   ]
  },
  {
   "cell_type": "markdown",
   "metadata": {},
   "source": [
    "### Import data"
   ]
  },
  {
   "cell_type": "code",
   "execution_count": 16,
   "metadata": {
    "id": "yUFdPf31_KAB"
   },
   "outputs": [],
   "source": [
    "# select excel or csv file\n",
    "df = pd.read_excel('./Jan_100_.xlsx').iloc[1:99,:]"
   ]
  },
  {
   "cell_type": "markdown",
   "metadata": {},
   "source": [
    "### Function for adding labels"
   ]
  },
  {
   "cell_type": "code",
   "execution_count": 17,
   "metadata": {
    "id": "Em-xKMhzRaMn"
   },
   "outputs": [],
   "source": [
    "def tag_preconditions_with_exclusions(tokens, preconditions, srl_tags):\n",
    "    # Create a list for the new tags, skipping 'X' in 'preconditions'\n",
    "    precondition_tags = [\"Precondition\" if word != 'X' else 'X' for word in preconditions]\n",
    "\n",
    "    # Calculate the length of the 'preconditions' list\n",
    "    len_preconditions = len(preconditions)\n",
    "\n",
    "    # Iterate through the 'tokens' list and check for match with 'preconditions'\n",
    "    for i in range(len(tokens) - len_preconditions + 1):\n",
    "        # Check if the next sequence of tokens matches 'preconditions'\n",
    "        if all(t == p or p == 'X' for t, p in zip(tokens[i:i+len_preconditions], preconditions)):\n",
    "            # Replace the matching tags in 'srl_tags' with 'precondition_tags', but skip 'X'\n",
    "            for j in range(len_preconditions):\n",
    "                if preconditions[j] != 'X':\n",
    "                    srl_tags[i+j] = precondition_tags[j]\n",
    "            break  # Stop after finding the first match\n",
    "\n",
    "    return srl_tags"
   ]
  },
  {
   "cell_type": "code",
   "execution_count": 18,
   "metadata": {},
   "outputs": [],
   "source": [
    "def fix_quotes(s):\n",
    "    # Correcting quotes in a string representation of a list\n",
    "    s = s.strip(\"[]\")  # Remove the surrounding brackets\n",
    "    items = s.split(\",\")  # Split the string into items\n",
    "    corrected_items = []\n",
    "    for item in items:\n",
    "        item = item.strip()  # Remove leading/trailing whitespace\n",
    "        if item:\n",
    "            # Remove extra quotes and re-add a single set of quotes\n",
    "            item = \"'\" + item.strip(\"'\\\" \") + \"'\"\n",
    "        corrected_items.append(item)\n",
    "    return \"[\" + \", \".join(corrected_items) + \"]\""
   ]
  },
  {
   "cell_type": "code",
   "execution_count": 19,
   "metadata": {},
   "outputs": [],
   "source": [
    "# Correct the quoting in the 'preconditions' column\n",
    "df['preconditions'] = df['preconditions'].apply(fix_quotes)"
   ]
  },
  {
   "cell_type": "markdown",
   "metadata": {},
   "source": [
    "### Apply function to dataframe"
   ]
  },
  {
   "cell_type": "code",
   "execution_count": 20,
   "metadata": {
    "id": "jhrUy6NxXWyV"
   },
   "outputs": [],
   "source": [
    "df['tokens'] = df['tokens'].apply(ast.literal_eval)\n",
    "df['preconditions'] = df['preconditions'].apply(ast.literal_eval)\n",
    "df['srl_tags'] = df['srl_tags'].apply(ast.literal_eval)\n",
    "\n",
    "# Apply the function to each row and create a new column 'new_srl_tags'\n",
    "df['new_srl_tags'] = df.apply(lambda row: tag_preconditions_with_exclusions(row['tokens'], row['preconditions'], row['srl_tags']), axis=1)"
   ]
  },
  {
   "cell_type": "markdown",
   "metadata": {},
   "source": [
    "### Save dataframe as new csv file"
   ]
  },
  {
   "cell_type": "code",
   "execution_count": 22,
   "metadata": {
    "id": "icIOgZx_ZPW_"
   },
   "outputs": [],
   "source": [
    "df.to_csv('updated_tags.csv', index=False)"
   ]
  },
  {
   "cell_type": "code",
   "execution_count": null,
   "metadata": {},
   "outputs": [],
   "source": []
  }
 ],
 "metadata": {
  "colab": {
   "provenance": []
  },
  "kernelspec": {
   "display_name": "Python 3 (ipykernel)",
   "language": "python",
   "name": "python3"
  },
  "language_info": {
   "codemirror_mode": {
    "name": "ipython",
    "version": 3
   },
   "file_extension": ".py",
   "mimetype": "text/x-python",
   "name": "python",
   "nbconvert_exporter": "python",
   "pygments_lexer": "ipython3",
   "version": "3.11.5"
  },
  "vscode": {
   "interpreter": {
    "hash": "d88b4992e5b06b322ead3277a6c0c22aea73de159b15016e3d5eb1aecc84f355"
   }
  }
 },
 "nbformat": 4,
 "nbformat_minor": 4
}
